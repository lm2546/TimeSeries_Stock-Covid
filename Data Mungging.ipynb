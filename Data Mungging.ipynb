{
 "cells": [
  {
   "cell_type": "markdown",
   "metadata": {},
   "source": [
    "## Load Pacakage"
   ]
  },
  {
   "cell_type": "code",
   "execution_count": 1,
   "metadata": {},
   "outputs": [],
   "source": [
    "import pandas as pd "
   ]
  },
  {
   "cell_type": "code",
   "execution_count": 2,
   "metadata": {},
   "outputs": [],
   "source": [
    "jo = pd.read_csv('data/RNN_Johnson.csv').reset_index()\n",
    "pf = pd.read_csv('data/LSTM_Pfizer.csv').reset_index()\n",
    "mo = pd.read_csv('data/GRU_Moderna.csv').reset_index()\n",
    "vac = pd.read_csv('data/vaccine.csv')\n",
    "co = pd.read_csv('data/covid.csv').iloc[:,[0,2]]"
   ]
  },
  {
   "cell_type": "code",
   "execution_count": 3,
   "metadata": {},
   "outputs": [],
   "source": [
    "vac_jo = vac[vac['vaccine']=='Johnson&Johnson'].iloc[:,[1,2,3]].reset_index()\n",
    "vac_pf = vac[vac['vaccine']=='Pfizer/BioNTech'].iloc[:,[1,2,3]].reset_index()\n",
    "vac_mo = vac[vac['vaccine']=='Moderna'].iloc[:,[1,2,3]].reset_index()"
   ]
  },
  {
   "cell_type": "code",
   "execution_count": 4,
   "metadata": {},
   "outputs": [],
   "source": [
    "jo['Date'] =  pd.to_datetime(jo['Date'], format='%m/%d/%Y')\n",
    "pf['Date'] =  pd.to_datetime(pf['Date'], format='%m/%d/%Y')\n",
    "mo['Date'] =  pd.to_datetime(mo['Date'], format='%m/%d/%Y')\n",
    "co['Date'] =  pd.to_datetime(co['Date'], format='%Y-%m-%d')"
   ]
  },
  {
   "cell_type": "code",
   "execution_count": 5,
   "metadata": {},
   "outputs": [],
   "source": [
    "vac_jo['date'] =  pd.to_datetime(vac_jo['date'], format='%Y-%m-%d')\n",
    "vac_pf['date'] =  pd.to_datetime(vac_pf['date'], format='%Y-%m-%d')\n",
    "vac_mo['date'] =  pd.to_datetime(vac_mo['date'], format='%Y-%m-%d')"
   ]
  },
  {
   "cell_type": "code",
   "execution_count": 6,
   "metadata": {},
   "outputs": [],
   "source": [
    "multi_jo=jo.merge(vac_jo, left_on='Date', right_on='date').iloc[:,[1,2]]\n",
    "multi_pf=pf.merge(vac_pf, left_on='Date', right_on='date').iloc[:,[1,2]]\n",
    "multi_mo=mo.merge(vac_mo, left_on='Date', right_on='date').iloc[:,[1,2]]"
   ]
  },
  {
   "cell_type": "code",
   "execution_count": 7,
   "metadata": {},
   "outputs": [],
   "source": [
    "#multi_jo2=jo.merge(co, left_on='Date', right_on='Date')\n",
    "multi_jo=multi_jo.merge(co, left_on='Date', right_on='Date')\n",
    "multi_pf=multi_pf.merge(co, left_on='Date', right_on='Date')\n",
    "multi_mo=multi_mo.merge(co, left_on='Date', right_on='Date')"
   ]
  },
  {
   "cell_type": "code",
   "execution_count": 8,
   "metadata": {},
   "outputs": [],
   "source": [
    "multi_jo.to_csv('data/multi_jo.csv',index=False)\n",
    "multi_pf.to_csv('data/multi_pf.csv',index=False)\n",
    "multi_mo.to_csv('data/multi_mo.csv',index=False)"
   ]
  }
 ],
 "metadata": {
  "interpreter": {
   "hash": "0d1be963c9049a0aae7224d2bf38fb1610109bbd78ff686375a11dd6544a20fd"
  },
  "kernelspec": {
   "display_name": "Python 3.9.7 ('base')",
   "language": "python",
   "name": "python3"
  },
  "language_info": {
   "codemirror_mode": {
    "name": "ipython",
    "version": 3
   },
   "file_extension": ".py",
   "mimetype": "text/x-python",
   "name": "python",
   "nbconvert_exporter": "python",
   "pygments_lexer": "ipython3",
   "version": "3.9.7"
  },
  "orig_nbformat": 4
 },
 "nbformat": 4,
 "nbformat_minor": 2
}
